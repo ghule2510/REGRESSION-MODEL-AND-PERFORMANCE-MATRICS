{
  "nbformat": 4,
  "nbformat_minor": 0,
  "metadata": {
    "colab": {
      "provenance": []
    },
    "kernelspec": {
      "name": "python3",
      "display_name": "Python 3"
    },
    "language_info": {
      "name": "python"
    }
  },
  "cells": [
    {
      "cell_type": "markdown",
      "source": [
        "***REGRESSION MODELS AND PERFORRMANCE METRICS***"
      ],
      "metadata": {
        "id": "InrdzcoS_FXi"
      }
    },
    {
      "cell_type": "markdown",
      "source": [
        "Question 1 : What is Simple Linear Regression (SLR)? Explain its purpose.\n",
        "ANS-Simple Linear Regression (SLR) is a statistical method used to study the relationship between two variables —\n",
        "one independent variable (X) and one dependent variable (Y) — by fitting a straight line to the data."
      ],
      "metadata": {
        "id": "oGEofcHq_Fa-"
      }
    },
    {
      "cell_type": "markdown",
      "source": [
        "Question 2: What are the key assumptions of Simple Linear Regression?\n",
        "ANS-\n",
        " 1. Linearity\n",
        "\n",
        "The relationship between the independent variable (X) and the dependent variable (Y) is linear.\n",
        "\n",
        "This means changes in X lead to proportional changes in Y.\n",
        " 2. Independence of Errors\n",
        "\n",
        "The residuals (errors) are independent of each other.\n",
        "\n",
        "In other words, one observation’s error does not influence another’s.\n",
        "\n",
        " 3. Homoscedasticity (Constant Variance of Errors)\n",
        "\n",
        "The variance of residuals is constant across all levels of X.\n",
        "\n",
        "That means the spread of errors doesn’t increase or decrease with X.\n",
        "\n",
        "\n",
        " 4. Normality of Errors\n",
        "\n",
        "The residuals (ε) should be normally distributed.\n",
        "\n",
        "This is important for valid hypothesis testing and confidence interval\n",
        "5. No (or Minimal) Measurement Error in X\n",
        "\n",
        "The independent variable (X) should be measured accurately.\n",
        "\n",
        "Large measurement errors in X can bias the estimated slope (β₁)."
      ],
      "metadata": {
        "id": "1GjYfwB3AIDb"
      }
    },
    {
      "cell_type": "markdown",
      "source": [
        "Question 3:Write the mathematical equation for a simple linear regression model and\n",
        "explain each term.\n",
        "ANS-\n",
        "Y=β0+β1X+ε\n",
        "\n",
        "Y → Dependent Variable (Output)\n",
        "\n",
        "The variable we want to predict or explain.\n",
        "\n",
        "Example: Marks, Salary, Sales, etc.\n",
        "\n",
        "X → Independent Variable (Input)\n",
        "\n",
        "The variable we use to predict Y.\n",
        "\n",
        "Example: Hours of Study, Experience, Advertising Budget, etc.\n",
        "\n",
        "β₀ (Beta Zero) → Intercept\n",
        "\n",
        "The value of Y when X = 0.\n",
        "\n",
        "It shows where the regression line cuts the Y-axis.\n",
        "\n",
        "β₁ (Beta One) → Slope\n",
        "\n",
        "It tells how much Y changes when X increases by 1 unit.\n",
        "\n",
        "If β₁ is positive, Y increases with X.\n",
        "\n",
        "If β₁ is negative, Y decreases with X.\n",
        "\n",
        "ε (Epsilon) → Error Term\n",
        "\n",
        "The difference between the actual value and the predicted value of Y.\n",
        "\n",
        "It represents all other factors that affect Y but are not included in the model."
      ],
      "metadata": {
        "id": "JTf4STdeBRhO"
      }
    },
    {
      "cell_type": "markdown",
      "source": [
        "Question 4: Provide a real-world example where simple linear regression can be\n",
        "applied.\n",
        "ANS-\n",
        "Example: Predicting House Prices Based on Size\n",
        "\n",
        "Suppose a real estate company wants to predict the price of a house (Y) based on its size in square feet (X).\n",
        "\n",
        "Scenario:\n",
        "\n",
        "Dependent Variable (Y): House Price (in ₹ lakhs)\n",
        "\n",
        "Independent Variable (X): House Size (in square feet)\n",
        "\n",
        "After collecting data on several houses and applying Simple Linear Regression, we might get a model like:\n",
        "\n",
        "𝑌=25+0.15𝑋\n",
        "\n",
        "Interpretation:\n",
        "β₀ = 25:\n",
        "When the house size is 0 sq. ft (theoretical), the base price is ₹25 lakhs.\n",
        "\n",
        "β₁ = 0.15:\n",
        "For every additional 1 sq. ft, the house price increases by ₹0.15 lakhs (₹15,000).\n",
        "\n",
        "Prediction Example:\n",
        "\n",
        "If a house is 2,000 sq. ft, then:\n",
        "\n",
        "𝑌=25+0.15(2000)=25+300=325\n",
        "\n",
        "\n",
        " Predicted Price = ₹325 lakhs (or ₹3.25 crores)"
      ],
      "metadata": {
        "id": "ZBk3YFHlC_FQ"
      }
    },
    {
      "cell_type": "markdown",
      "source": [
        "Question 5: What is the method of least squares in linear regression?\n",
        "ANS-The Method of Least Squares is a mathematical technique used in linear regression to find the best-fitting line through a set of data points"
      ],
      "metadata": {
        "id": "RPBphmh0FEIG"
      }
    },
    {
      "cell_type": "markdown",
      "source": [
        "Question 6: What is Logistic Regression? How does it differ from Linear Regression?\n",
        "ANS-Logistic Regression is a statistical method used for classification problems, where the dependent variable (Y) is categorical — usually binary (e.g., Yes/No, 0/1, Pass/Fail).\n",
        " Purpose:\n",
        "Linear Regression: Used to predict continuous values (e.g., marks, sales, salary).\n",
        "Linear: Gives a numerical value.\n",
        "Linear:\n",
        "𝑌=𝛽0+𝛽1𝑋+𝜀Y=β0+β1X+ε\n",
        "Linear: Relationship is straight line (linear).\n",
        "Linear: Continuous variable.\n",
        "Linear: Uses Mean Squared Error (MSE)."
      ],
      "metadata": {
        "id": "_1C3BB_wFjLE"
      }
    },
    {
      "cell_type": "markdown",
      "source": [
        "Question 7: Name and briefly describe three common evaluation metrics for regression\n",
        "models\n",
        "ANS-Mean Absolute Error (MAE)\n",
        "\n",
        "Definition: The average of the absolute differences between the predicted values and the actual values.\n",
        "\n",
        "Formula:\n",
        "MAE=n1i=1∑n∣Yi−Yi^∣\n",
        "\n",
        "Interpretation: Gives the average magnitude of errors without considering their direction. Lower MAE → better model.\n",
        "\n",
        "2️ Mean Squared Error (MSE)\n",
        "\n",
        "Definition: The average of the squared differences between predicted and actual values.\n",
        "\n",
        "Formula:\n",
        "𝑀𝑆𝐸=1𝑛∑𝑖=1𝑛(𝑌𝑖−𝑌𝑖^)2\n",
        "MSE=1i=1∑n(Yi​−Yi^)2\n",
        "\n",
        "Interpretation: Penalizes larger errors more heavily because of squaring. Lower MSE → better model.\n",
        "3️ Root Mean Squared Error (RMSE)\n",
        "\n",
        "Definition: The square root of the Mean Squared Error.\n",
        "\n",
        "Formula:\n",
        "\n",
        "𝑅𝑀𝑆𝐸=1𝑛∑𝑖=1𝑛(𝑌𝑖−𝑌𝑖^)2\n",
        "RMSE=n1i=1∑n(Yi−Yi^)2\n",
        "\t​\n",
        "\n",
        "\n",
        "Interpretation: Measures the average magnitude of errors in the same units as Y, making it more interpretable. Lower RMSE → better model."
      ],
      "metadata": {
        "id": "yGYUOaE4HFQ9"
      }
    },
    {
      "cell_type": "markdown",
      "source": [
        "Question 8: What is the purpose of the R-squared metric in regression analysis?\n",
        "ANS-R-squared is a statistical metric that measures how well a regression model explains the variability of the dependent variable (Y) based on the independent variable(s) (X).\n",
        "Purpose of R-squared:\n",
        "\n",
        "Measure model fit: Shows how well the regression line fits the observed data.\n",
        "\n",
        "Compare models: Higher R² indicates a better model for predicting Y.\n",
        "\n",
        "Understand variability: Helps quantify how much of the change in Y is explained by X.\n",
        "\n"
      ],
      "metadata": {
        "id": "2X8wtz-uHP5Z"
      }
    },
    {
      "cell_type": "markdown",
      "source": [
        "Question 9: Write Python code to fit a simple linear regression model using scikit-learn\n",
        "and print the slope and intercept.\n"
      ],
      "metadata": {
        "id": "I0mBWUdfKWpb"
      }
    },
    {
      "cell_type": "code",
      "source": [
        "# Import necessary libraries\n",
        "import numpy as np\n",
        "from sklearn.linear_model import LinearRegression\n",
        "\n",
        "# Sample data\n",
        "# X = independent variable (e.g., hours studied)\n",
        "# Y = dependent variable (e.g., marks scored)\n",
        "X = np.array([1, 2, 3, 4, 5]).reshape(-1, 1)  # 2D array for scikit-learn\n",
        "Y = np.array([50, 55, 65, 70, 75])\n",
        "\n",
        "# Create the Linear Regression model\n",
        "model = LinearRegression()\n",
        "\n",
        "# Fit the model to the data\n",
        "model.fit(X, Y)\n",
        "\n",
        "# Print the slope (coefficient) and intercept\n",
        "print(\"Slope (β1):\", model.coef_[0])\n",
        "print(\"Intercept (β0):\", model.intercept_)\n"
      ],
      "metadata": {
        "colab": {
          "base_uri": "https://localhost:8080/"
        },
        "id": "OxDPdntpKnsl",
        "outputId": "0724ef54-07d0-4b5b-a07c-bae25307a1cb"
      },
      "execution_count": null,
      "outputs": [
        {
          "output_type": "stream",
          "name": "stdout",
          "text": [
            "Slope (β1): 6.500000000000001\n",
            "Intercept (β0): 43.5\n"
          ]
        }
      ]
    },
    {
      "cell_type": "markdown",
      "source": [
        "Question 10: How do you interpret the coefficients in a simple linear regression model?\n",
        "1.Intercept (β₀)\n",
        "\n",
        "Definition: The value of the dependent variable Y when the independent variable X = 0.\n",
        "\n",
        "Interpretation: It is the starting point of the regression line on the Y-axis.\n",
        "\n",
        "Example: If β₀ = 40, when X = 0, the predicted Y is 40.\n",
        "\n",
        "2️ Slope (β₁)\n",
        "\n",
        "Definition: The change in Y for a one-unit increase in X.\n",
        "\n",
        "Interpretation: Shows the strength and direction of the relationship between X and Y.\n",
        "\n",
        "Positive β₁ → Y increases as X increases\n",
        "\n",
        "Negative β₁ → Y decreases as X increases\n",
        "\n",
        "Example: If β₁ = 5, for each additional unit of X, Y increases by 5.\n",
        "\n",
        "3️ Error Term (ε)\n",
        "\n",
        "Definition: The difference between the observed and predicted Y.\n",
        "\n",
        "Interpretation: Captures all other factors affecting Y that are not included in X.\n",
        "\n",
        "Usually, we focus more on β₀ and β₁ for interpretation."
      ],
      "metadata": {
        "id": "ecmHHglWKxdj"
      }
    }
  ]
}